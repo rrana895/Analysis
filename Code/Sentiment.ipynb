{
  "nbformat": 4,
  "nbformat_minor": 0,
  "metadata": {
    "colab": {
      "name": "sentiment.ipynb",
      "provenance": [],
      "collapsed_sections": []
    },
    "kernelspec": {
      "name": "python3",
      "display_name": "Python 3"
    },
    "accelerator": "GPU"
  },
  "cells": [
    {
      "cell_type": "markdown",
      "metadata": {
        "id": "JiWfP5ZRRSO_",
        "colab_type": "text"
      },
      "source": [
        "Project on sentiment analysis which is a NLP based project using python as the language using packages such as tensorflow."
      ]
    },
    {
      "cell_type": "code",
      "metadata": {
        "id": "Zw4psm43Qrd4",
        "colab_type": "code",
        "outputId": "82bf8d45-8057-47f6-bace-4833d7f6dff7",
        "colab": {
          "base_uri": "https://localhost:8080/",
          "height": 306
        }
      },
      "source": [
        "#We are using gpu, To know more about the hardware we are using\n",
        "!nvidia-smi"
      ],
      "execution_count": 0,
      "outputs": [
        {
          "output_type": "stream",
          "text": [
            "Fri May  1 21:12:59 2020       \n",
            "+-----------------------------------------------------------------------------+\n",
            "| NVIDIA-SMI 440.64.00    Driver Version: 418.67       CUDA Version: 10.1     |\n",
            "|-------------------------------+----------------------+----------------------+\n",
            "| GPU  Name        Persistence-M| Bus-Id        Disp.A | Volatile Uncorr. ECC |\n",
            "| Fan  Temp  Perf  Pwr:Usage/Cap|         Memory-Usage | GPU-Util  Compute M. |\n",
            "|===============================+======================+======================|\n",
            "|   0  Tesla T4            Off  | 00000000:00:04.0 Off |                    0 |\n",
            "| N/A   36C    P8     9W /  70W |      0MiB / 15079MiB |      0%      Default |\n",
            "+-------------------------------+----------------------+----------------------+\n",
            "                                                                               \n",
            "+-----------------------------------------------------------------------------+\n",
            "| Processes:                                                       GPU Memory |\n",
            "|  GPU       PID   Type   Process name                             Usage      |\n",
            "|=============================================================================|\n",
            "|  No running processes found                                                 |\n",
            "+-----------------------------------------------------------------------------+\n"
          ],
          "name": "stdout"
        }
      ]
    },
    {
      "cell_type": "code",
      "metadata": {
        "id": "Aika3tZsQrwi",
        "colab_type": "code",
        "colab": {}
      },
      "source": [
        "#Mounting Google drive so as to access data from the drive\n",
        "from google.colab import drive\n",
        "drive.mount('/content/drive')"
      ],
      "execution_count": 0,
      "outputs": []
    },
    {
      "cell_type": "code",
      "metadata": {
        "id": "wTQTriZ_T_TQ",
        "colab_type": "code",
        "colab": {}
      },
      "source": [
        "#Copying data from folder DATA_ASSIGN7 to local\n",
        "!cp /content/drive/My\\ Drive/DATA_ASSIGN7/*.csv ./"
      ],
      "execution_count": 0,
      "outputs": []
    },
    {
      "cell_type": "code",
      "metadata": {
        "id": "3ESSVjFCUAJx",
        "colab_type": "code",
        "outputId": "10d8da67-9f2e-46cb-cb1e-daf98d8ab74e",
        "colab": {
          "base_uri": "https://localhost:8080/",
          "height": 204
        }
      },
      "source": [
        "#library pandas for data manipulation and analysis\n",
        "#import large sentiment analysis tweet dataset\n",
        "import pandas as pd\n",
        "df = pd.read_csv('cleaned_tweets_1point6_million.csv')\n",
        "df.dropna(inplace=True) # removing na or empty places from the dataset\n",
        "df.head() #taking only the  heads or heading of the tweets\n"
      ],
      "execution_count": 0,
      "outputs": [
        {
          "output_type": "execute_result",
          "data": {
            "text/html": [
              "<div>\n",
              "<style scoped>\n",
              "    .dataframe tbody tr th:only-of-type {\n",
              "        vertical-align: middle;\n",
              "    }\n",
              "\n",
              "    .dataframe tbody tr th {\n",
              "        vertical-align: top;\n",
              "    }\n",
              "\n",
              "    .dataframe thead th {\n",
              "        text-align: right;\n",
              "    }\n",
              "</style>\n",
              "<table border=\"1\" class=\"dataframe\">\n",
              "  <thead>\n",
              "    <tr style=\"text-align: right;\">\n",
              "      <th></th>\n",
              "      <th>labels</th>\n",
              "      <th>tweets</th>\n",
              "    </tr>\n",
              "  </thead>\n",
              "  <tbody>\n",
              "    <tr>\n",
              "      <th>0</th>\n",
              "      <td>0</td>\n",
              "      <td>switchfoot httptwitpiccomyzl awww that bummer ...</td>\n",
              "    </tr>\n",
              "    <tr>\n",
              "      <th>1</th>\n",
              "      <td>0</td>\n",
              "      <td>upset cant updat facebook text might cri resul...</td>\n",
              "    </tr>\n",
              "    <tr>\n",
              "      <th>2</th>\n",
              "      <td>0</td>\n",
              "      <td>kenichan dive mani time ball manag save rest g...</td>\n",
              "    </tr>\n",
              "    <tr>\n",
              "      <th>3</th>\n",
              "      <td>0</td>\n",
              "      <td>whole bodi feel itchi like fire</td>\n",
              "    </tr>\n",
              "    <tr>\n",
              "      <th>4</th>\n",
              "      <td>0</td>\n",
              "      <td>nationwideclass behav im mad cant see</td>\n",
              "    </tr>\n",
              "  </tbody>\n",
              "</table>\n",
              "</div>"
            ],
            "text/plain": [
              "   labels                                             tweets\n",
              "0       0  switchfoot httptwitpiccomyzl awww that bummer ...\n",
              "1       0  upset cant updat facebook text might cri resul...\n",
              "2       0  kenichan dive mani time ball manag save rest g...\n",
              "3       0                    whole bodi feel itchi like fire\n",
              "4       0              nationwideclass behav im mad cant see"
            ]
          },
          "metadata": {
            "tags": []
          },
          "execution_count": 13
        }
      ]
    },
    {
      "cell_type": "code",
      "metadata": {
        "id": "td9_fls8UAUX",
        "colab_type": "code",
        "outputId": "f1897fd4-e815-49fd-ec37-6bae3e67f25a",
        "colab": {
          "base_uri": "https://localhost:8080/",
          "height": 34
        }
      },
      "source": [
        "#See our unique labels\n",
        "df.labels.unique()"
      ],
      "execution_count": 0,
      "outputs": [
        {
          "output_type": "execute_result",
          "data": {
            "text/plain": [
              "array([0, 4])"
            ]
          },
          "metadata": {
            "tags": []
          },
          "execution_count": 14
        }
      ]
    },
    {
      "cell_type": "code",
      "metadata": {
        "id": "ESSJNLGSW51F",
        "colab_type": "code",
        "outputId": "b54f2fb2-3ec2-41fd-d861-127d8430b579",
        "colab": {
          "base_uri": "https://localhost:8080/",
          "height": 204
        }
      },
      "source": [
        "df[df.labels == 0].head() "
      ],
      "execution_count": 0,
      "outputs": [
        {
          "output_type": "execute_result",
          "data": {
            "text/html": [
              "<div>\n",
              "<style scoped>\n",
              "    .dataframe tbody tr th:only-of-type {\n",
              "        vertical-align: middle;\n",
              "    }\n",
              "\n",
              "    .dataframe tbody tr th {\n",
              "        vertical-align: top;\n",
              "    }\n",
              "\n",
              "    .dataframe thead th {\n",
              "        text-align: right;\n",
              "    }\n",
              "</style>\n",
              "<table border=\"1\" class=\"dataframe\">\n",
              "  <thead>\n",
              "    <tr style=\"text-align: right;\">\n",
              "      <th></th>\n",
              "      <th>labels</th>\n",
              "      <th>tweets</th>\n",
              "    </tr>\n",
              "  </thead>\n",
              "  <tbody>\n",
              "    <tr>\n",
              "      <th>0</th>\n",
              "      <td>0</td>\n",
              "      <td>switchfoot httptwitpiccomyzl awww that bummer ...</td>\n",
              "    </tr>\n",
              "    <tr>\n",
              "      <th>1</th>\n",
              "      <td>0</td>\n",
              "      <td>upset cant updat facebook text might cri resul...</td>\n",
              "    </tr>\n",
              "    <tr>\n",
              "      <th>2</th>\n",
              "      <td>0</td>\n",
              "      <td>kenichan dive mani time ball manag save rest g...</td>\n",
              "    </tr>\n",
              "    <tr>\n",
              "      <th>3</th>\n",
              "      <td>0</td>\n",
              "      <td>whole bodi feel itchi like fire</td>\n",
              "    </tr>\n",
              "    <tr>\n",
              "      <th>4</th>\n",
              "      <td>0</td>\n",
              "      <td>nationwideclass behav im mad cant see</td>\n",
              "    </tr>\n",
              "  </tbody>\n",
              "</table>\n",
              "</div>"
            ],
            "text/plain": [
              "   labels                                             tweets\n",
              "0       0  switchfoot httptwitpiccomyzl awww that bummer ...\n",
              "1       0  upset cant updat facebook text might cri resul...\n",
              "2       0  kenichan dive mani time ball manag save rest g...\n",
              "3       0                    whole bodi feel itchi like fire\n",
              "4       0              nationwideclass behav im mad cant see"
            ]
          },
          "metadata": {
            "tags": []
          },
          "execution_count": 15
        }
      ]
    },
    {
      "cell_type": "code",
      "metadata": {
        "id": "W9sKMUN_W5-e",
        "colab_type": "code",
        "outputId": "d1927d25-0a18-4dab-8002-b751058dadf8",
        "colab": {
          "base_uri": "https://localhost:8080/",
          "height": 204
        }
      },
      "source": [
        "df[df.labels == 4].head()"
      ],
      "execution_count": 0,
      "outputs": [
        {
          "output_type": "execute_result",
          "data": {
            "text/html": [
              "<div>\n",
              "<style scoped>\n",
              "    .dataframe tbody tr th:only-of-type {\n",
              "        vertical-align: middle;\n",
              "    }\n",
              "\n",
              "    .dataframe tbody tr th {\n",
              "        vertical-align: top;\n",
              "    }\n",
              "\n",
              "    .dataframe thead th {\n",
              "        text-align: right;\n",
              "    }\n",
              "</style>\n",
              "<table border=\"1\" class=\"dataframe\">\n",
              "  <thead>\n",
              "    <tr style=\"text-align: right;\">\n",
              "      <th></th>\n",
              "      <th>labels</th>\n",
              "      <th>tweets</th>\n",
              "    </tr>\n",
              "  </thead>\n",
              "  <tbody>\n",
              "    <tr>\n",
              "      <th>719642</th>\n",
              "      <td>4</td>\n",
              "      <td>love healthuandpet u guy r best</td>\n",
              "    </tr>\n",
              "    <tr>\n",
              "      <th>719643</th>\n",
              "      <td>4</td>\n",
              "      <td>im meet one besti tonight cant wait girl talk</td>\n",
              "    </tr>\n",
              "    <tr>\n",
              "      <th>719644</th>\n",
              "      <td>4</td>\n",
              "      <td>darealsunisakim thank twitter add sunisa got m...</td>\n",
              "    </tr>\n",
              "    <tr>\n",
              "      <th>719645</th>\n",
              "      <td>4</td>\n",
              "      <td>sick realli cheap hurt much eat real food plu ...</td>\n",
              "    </tr>\n",
              "    <tr>\n",
              "      <th>719646</th>\n",
              "      <td>4</td>\n",
              "      <td>lovesbrooklyn effect everyon</td>\n",
              "    </tr>\n",
              "  </tbody>\n",
              "</table>\n",
              "</div>"
            ],
            "text/plain": [
              "        labels                                             tweets\n",
              "719642       4                    love healthuandpet u guy r best\n",
              "719643       4      im meet one besti tonight cant wait girl talk\n",
              "719644       4  darealsunisakim thank twitter add sunisa got m...\n",
              "719645       4  sick realli cheap hurt much eat real food plu ...\n",
              "719646       4                       lovesbrooklyn effect everyon"
            ]
          },
          "metadata": {
            "tags": []
          },
          "execution_count": 16
        }
      ]
    },
    {
      "cell_type": "code",
      "metadata": {
        "id": "2CfFu6ieXL-n",
        "colab_type": "code",
        "colab": {}
      },
      "source": [
        "# Above can be seen that \n",
        "#0 encodes negative sentiment \n",
        "#4 encodes positive sentiment"
      ],
      "execution_count": 0,
      "outputs": []
    },
    {
      "cell_type": "code",
      "metadata": {
        "id": "0vFzdaymXMIp",
        "colab_type": "code",
        "colab": {}
      },
      "source": [
        "#Using the data to train our model"
      ],
      "execution_count": 0,
      "outputs": []
    },
    {
      "cell_type": "code",
      "metadata": {
        "id": "HCYFhUprXMSu",
        "colab_type": "code",
        "colab": {}
      },
      "source": [
        "#More non usuable sentiments are also there as in like 2 for none or neutral sentiments \n",
        "#so even though this is cleaned dataset further cleaing is required\n",
        "#converting above labels to 0 and 1\n",
        "\n",
        "# Preprcessing tweets dataset\n",
        "\n",
        "df.labels = df.labels.apply(lambda x:int(x==4))# converting labels encoding 0-4 to 0-1 by representing 4 as 1,int(x==4) returns 1 if x==4 else 0\n",
        "df.tweets = df.tweets.apply(lambda x:x.strip())#remove empty spaces from start and ending of tweets\n",
        "df = df[~(df.tweets =='')]#remove empty tweets"
      ],
      "execution_count": 0,
      "outputs": []
    },
    {
      "cell_type": "code",
      "metadata": {
        "id": "QIzJih8hdlPa",
        "colab_type": "code",
        "outputId": "c9cdedd2-5240-43fe-bba8-980129f21aa4",
        "colab": {
          "base_uri": "https://localhost:8080/",
          "height": 34
        }
      },
      "source": [
        "#Huge dataset check the length of dataset\n",
        "len(df)"
      ],
      "execution_count": 0,
      "outputs": [
        {
          "output_type": "execute_result",
          "data": {
            "text/plain": [
              "1439658"
            ]
          },
          "metadata": {
            "tags": []
          },
          "execution_count": 20
        }
      ]
    },
    {
      "cell_type": "code",
      "metadata": {
        "id": "IDmn-5DKea13",
        "colab_type": "code",
        "colab": {}
      },
      "source": [
        "# Working only in sample (i.e, 50% of the entire data)\n",
        "sample = df.sample(int(0.5*len(df)))#multiply by 0.9 means 90% similarly 1.0 means 100% and 0.01 means 1%"
      ],
      "execution_count": 0,
      "outputs": []
    },
    {
      "cell_type": "code",
      "metadata": {
        "id": "VNFlo3t8ea8-",
        "colab_type": "code",
        "colab": {}
      },
      "source": [
        "#use tensorflow to train our LSTM network\n",
        "# First we need data loader\n",
        "\n",
        "import tensorflow as tf\n",
        "datagen = tf.data.Dataset.from_tensor_slices((sample.tweets,sample.labels))\n",
        "# datagen is a generator\n",
        "# while in the looop generates lists"
      ],
      "execution_count": 0,
      "outputs": []
    },
    {
      "cell_type": "code",
      "metadata": {
        "id": "p-WXItSAh3qZ",
        "colab_type": "code",
        "colab": {}
      },
      "source": [
        "# How this generator works\n",
        "# here we use a iter datatype (creates object which can iterate one element at a time)\n",
        "tweets, labels = next(iter(datagen))"
      ],
      "execution_count": 0,
      "outputs": []
    },
    {
      "cell_type": "code",
      "metadata": {
        "id": "zFbKrVd0BGKZ",
        "colab_type": "code",
        "outputId": "9c4a0949-b23c-415c-b827-cfa11369ae19",
        "colab": {
          "base_uri": "https://localhost:8080/",
          "height": 34
        }
      },
      "source": [
        "#if we look at the data structure now \n",
        "tweets"
      ],
      "execution_count": 0,
      "outputs": [
        {
          "output_type": "execute_result",
          "data": {
            "text/plain": [
              "<tf.Tensor: shape=(), dtype=string, numpy=b'fuck homework im go write that waaaay better'>"
            ]
          },
          "metadata": {
            "tags": []
          },
          "execution_count": 24
        }
      ]
    },
    {
      "cell_type": "code",
      "metadata": {
        "id": "Egjhj-tQC2Lq",
        "colab_type": "code",
        "outputId": "6abc9c3c-1196-4038-ba96-b5ab27bf5b28",
        "colab": {
          "base_uri": "https://localhost:8080/",
          "height": 34
        }
      },
      "source": [
        "#for labels \n",
        "labels"
      ],
      "execution_count": 0,
      "outputs": [
        {
          "output_type": "execute_result",
          "data": {
            "text/plain": [
              "<tf.Tensor: shape=(), dtype=int64, numpy=1>"
            ]
          },
          "metadata": {
            "tags": []
          },
          "execution_count": 25
        }
      ]
    },
    {
      "cell_type": "code",
      "metadata": {
        "id": "3M4dD5RXC7Mw",
        "colab_type": "code",
        "colab": {}
      },
      "source": [
        "#Now the library understants the data"
      ],
      "execution_count": 0,
      "outputs": []
    },
    {
      "cell_type": "code",
      "metadata": {
        "id": "RvkLHx5aC63P",
        "colab_type": "code",
        "colab": {}
      },
      "source": [
        "# We will use tokenizer to create tokens\n",
        "import tensorflow_datasets as tfds\n",
        "\n",
        "# Let us create a tokenizer\n",
        "tokenizer = tfds.features.text.Tokenizer()\n",
        "vocabulary_set = set()\n",
        "for text_tensor in sample.tweets.values:\n",
        "  some_tokens = tokenizer.tokenize(text_tensor)\n",
        "  vocabulary_set.update(some_tokens)"
      ],
      "execution_count": 0,
      "outputs": []
    },
    {
      "cell_type": "code",
      "metadata": {
        "id": "8fzXzsK6DB9S",
        "colab_type": "code",
        "colab": {}
      },
      "source": [
        "#But now we need a dictionary to map every word with the numbers\n",
        "#So an encoder"
      ],
      "execution_count": 0,
      "outputs": []
    },
    {
      "cell_type": "code",
      "metadata": {
        "id": "JpkWXUQXDr40",
        "colab_type": "code",
        "colab": {}
      },
      "source": [
        "# Now we will create our encoder\n",
        "# This encoder will encode text to numbers\n",
        "encoder = tfds.features.text.TokenTextEncoder(vocabulary_set)"
      ],
      "execution_count": 0,
      "outputs": []
    },
    {
      "cell_type": "code",
      "metadata": {
        "id": "C9QuL3qOESwN",
        "colab_type": "code",
        "outputId": "4271e859-5baf-4372-8ed7-7a4e4c2f7f15",
        "colab": {
          "base_uri": "https://localhost:8080/",
          "height": 34
        }
      },
      "source": [
        "#To check unique words \n",
        "encoder.vocab_size"
      ],
      "execution_count": 0,
      "outputs": [
        {
          "output_type": "execute_result",
          "data": {
            "text/plain": [
              "415468"
            ]
          },
          "metadata": {
            "tags": []
          },
          "execution_count": 30
        }
      ]
    },
    {
      "cell_type": "code",
      "metadata": {
        "id": "RG6iHlJbESiX",
        "colab_type": "code",
        "outputId": "d3f4d719-82e7-45cf-e304-c022453a3e37",
        "colab": {
          "base_uri": "https://localhost:8080/",
          "height": 119
        }
      },
      "source": [
        "# Let us see encoder in action\n",
        "sampletweet = sample.tweets.values[0]\n",
        "encodedtweet = encoder.encode(sample.tweets.values[0])\n",
        "decodedtweet = encoder.decode(encodedtweet)\n",
        "print(f'sample tweet : \\n{sampletweet}')\n",
        "print(f'encode tweet : \\n{encodedtweet}')\n",
        "print(f'decode tweet : \\n{decodedtweet}')"
      ],
      "execution_count": 0,
      "outputs": [
        {
          "output_type": "stream",
          "text": [
            "sample tweet : \n",
            "fuck homework im go write that waaaay better\n",
            "encode tweet : \n",
            "[267552, 68900, 371284, 341992, 283341, 114529, 212346, 356209]\n",
            "decode tweet : \n",
            "fuck homework im go write that waaaay better\n"
          ],
          "name": "stdout"
        }
      ]
    },
    {
      "cell_type": "code",
      "metadata": {
        "id": "9mxHxA0vFVGD",
        "colab_type": "code",
        "colab": {}
      },
      "source": [
        " #encode.decode([384896, 402755, 185880])\n",
        " #Problem of converting word to number or number to word solved"
      ],
      "execution_count": 0,
      "outputs": []
    },
    {
      "cell_type": "code",
      "metadata": {
        "id": "2S2JaSIVFviA",
        "colab_type": "code",
        "colab": {}
      },
      "source": [
        "#Problem different tweets has different word size(like some tweets have 13 words or only 7words) \n",
        "#but what we are providing is an array i.e. the words must be same while providing \n",
        "#so we must create a method that converts it into a vector such that if it is 7words it'll be filled with 0's to make it till 13element vector\n"
      ],
      "execution_count": 0,
      "outputs": []
    },
    {
      "cell_type": "code",
      "metadata": {
        "id": "VrhtQSA2ILkR",
        "colab_type": "code",
        "colab": {}
      },
      "source": [
        "# Our sample size\n",
        "N = len(sample)"
      ],
      "execution_count": 0,
      "outputs": []
    },
    {
      "cell_type": "code",
      "metadata": {
        "id": "jDpXIW5NFwLi",
        "colab_type": "code",
        "colab": {}
      },
      "source": [
        "# To encode our text data to number which are indices in embedding matrix\n",
        "\n",
        "# Need of these function\n",
        "def encode(text_tensor, label):\n",
        "  encoded_text = encoder.encode(text_tensor.numpy())\n",
        "  return encoded_text, label\n",
        "\n",
        "def encode_map_fn(text, label): \n",
        "  # py_func doesn't set the shape of the returned tensors.\n",
        "  encoded_text, label = tf.py_function(encode, \n",
        "                                       inp=[text, label], \n",
        "                                       Tout=(tf.int64, tf.int64))\n",
        "\n",
        "  # `tf.data.Datasets` works best if all components have a shape set\n",
        "  #  so set the shapes manually: \n",
        "  encoded_text.set_shape([None])\n",
        "  label.set_shape([])\n",
        "\n",
        "  return encoded_text, label\n",
        "\n",
        "\n",
        "\n",
        "# Now let us map datagenerator to encode_map_fn\n",
        "sample_map = datagen.map(encode_map_fn)\n",
        "\n",
        "\n",
        "# Now we will break our sample_map to train and test (90% and 10%)\n",
        "train_data = sample_map.skip(int(N * 0.9))\n",
        "train_data = train_data.padded_batch(50, padded_shapes=([None],[]))\n",
        "\n",
        "test_data = sample_map.take(int(N * 0.1))\n",
        "test_data = test_data.padded_batch(50, padded_shapes=([None],[]))"
      ],
      "execution_count": 0,
      "outputs": []
    },
    {
      "cell_type": "code",
      "metadata": {
        "id": "zA6pFLjEFwBW",
        "colab_type": "code",
        "colab": {}
      },
      "source": [
        "#check\n",
        "train_samplex, train_sampley = next(iter(train_data))"
      ],
      "execution_count": 0,
      "outputs": []
    },
    {
      "cell_type": "code",
      "metadata": {
        "id": "n64TNW17I4vX",
        "colab_type": "code",
        "outputId": "1eed6650-12d3-4799-fc53-01abdee3ec83",
        "colab": {
          "base_uri": "https://localhost:8080/",
          "height": 34
        }
      },
      "source": [
        "# we have 50 tweets having 18 features(i.e, words)\n",
        "#we have taken batch size 50\n",
        "train_samplex.shape"
      ],
      "execution_count": 0,
      "outputs": [
        {
          "output_type": "execute_result",
          "data": {
            "text/plain": [
              "TensorShape([50, 18])"
            ]
          },
          "metadata": {
            "tags": []
          },
          "execution_count": 36
        }
      ]
    },
    {
      "cell_type": "code",
      "metadata": {
        "id": "V0go7-nEJg_b",
        "colab_type": "code",
        "outputId": "4c4812d9-b13b-4f48-b803-2f4035b8a152",
        "colab": {
          "base_uri": "https://localhost:8080/",
          "height": 34
        }
      },
      "source": [
        "#We can take many data and train it making the model faster and better working\n",
        "train_sampley.shape"
      ],
      "execution_count": 0,
      "outputs": [
        {
          "output_type": "execute_result",
          "data": {
            "text/plain": [
              "TensorShape([50])"
            ]
          },
          "metadata": {
            "tags": []
          },
          "execution_count": 37
        }
      ]
    },
    {
      "cell_type": "code",
      "metadata": {
        "id": "e1suFqrDLA51",
        "colab_type": "code",
        "colab": {}
      },
      "source": [
        "# Problem making the model"
      ],
      "execution_count": 0,
      "outputs": []
    },
    {
      "cell_type": "code",
      "metadata": {
        "id": "odEIYxLfLBW5",
        "colab_type": "code",
        "colab": {}
      },
      "source": [
        "# Creating model\n",
        "model = tf.keras.Sequential([\n",
        "    tf.keras.layers.Embedding(encoder.vocab_size,output_dim=64), #convert given datasent to vector like dictionary maps the word\n",
        "    tf.keras.layers.Bidirectional(tf.keras.layers.LSTM(64, return_sequences=True)),\n",
        "    tf.keras.layers.Bidirectional(tf.keras.layers.LSTM(64, return_sequences=False)), \n",
        "    tf.keras.layers.Dropout(0.5),\n",
        "    tf.keras.layers.Dense(128, activation='relu'),\n",
        "    tf.keras.layers.Dropout(0.5),\n",
        "    tf.keras.layers.Dense(64, activation='relu'),\n",
        "    tf.keras.layers.Dense(1)\n",
        "])"
      ],
      "execution_count": 0,
      "outputs": []
    },
    {
      "cell_type": "code",
      "metadata": {
        "id": "Sy9LphQ3LRYw",
        "colab_type": "code",
        "outputId": "b69a4176-6818-4795-8518-b6c1de4e8ae7",
        "colab": {
          "base_uri": "https://localhost:8080/",
          "height": 34
        }
      },
      "source": [
        "model(train_samplex).shape #prediction "
      ],
      "execution_count": 0,
      "outputs": [
        {
          "output_type": "execute_result",
          "data": {
            "text/plain": [
              "TensorShape([50, 1])"
            ]
          },
          "metadata": {
            "tags": []
          },
          "execution_count": 40
        }
      ]
    },
    {
      "cell_type": "code",
      "metadata": {
        "id": "g7o_GSsKLRLr",
        "colab_type": "code",
        "outputId": "26532d15-83e8-4fc8-cec7-58088d2b717e",
        "colab": {
          "base_uri": "https://localhost:8080/",
          "height": 391
        }
      },
      "source": [
        "#model detail\n",
        "\n",
        "model.summary()"
      ],
      "execution_count": 0,
      "outputs": [
        {
          "output_type": "stream",
          "text": [
            "Model: \"sequential\"\n",
            "_________________________________________________________________\n",
            "Layer (type)                 Output Shape              Param #   \n",
            "=================================================================\n",
            "embedding (Embedding)        (None, None, 64)          26589952  \n",
            "_________________________________________________________________\n",
            "bidirectional (Bidirectional (None, None, 128)         66048     \n",
            "_________________________________________________________________\n",
            "bidirectional_1 (Bidirection (None, 128)               98816     \n",
            "_________________________________________________________________\n",
            "dropout (Dropout)            (None, 128)               0         \n",
            "_________________________________________________________________\n",
            "dense (Dense)                (None, 128)               16512     \n",
            "_________________________________________________________________\n",
            "dense_1 (Dense)              (None, 64)                8256      \n",
            "_________________________________________________________________\n",
            "dense_2 (Dense)              (None, 1)                 65        \n",
            "=================================================================\n",
            "Total params: 26,779,649\n",
            "Trainable params: 26,779,649\n",
            "Non-trainable params: 0\n",
            "_________________________________________________________________\n"
          ],
          "name": "stdout"
        }
      ]
    },
    {
      "cell_type": "code",
      "metadata": {
        "id": "SwkXZAmCZVDG",
        "colab_type": "code",
        "colab": {}
      },
      "source": [
        "#comipling the model\n",
        "model.compile(loss=tf.keras.losses.BinaryCrossentropy(from_logits=True),\n",
        "              optimizer=tf.keras.optimizers.Adam(1e-4),\n",
        "              metrics=['accuracy'])"
      ],
      "execution_count": 0,
      "outputs": []
    },
    {
      "cell_type": "code",
      "metadata": {
        "id": "VTl_Lkl1alBQ",
        "colab_type": "code",
        "outputId": "ef0dea18-b517-4ef0-be15-9ee0bbb0990b",
        "colab": {
          "base_uri": "https://localhost:8080/",
          "height": 139
        }
      },
      "source": [
        "# training the model\n",
        "history = model.fit(train_data, \n",
        "                    epochs=3, #number of times the data is trained\n",
        "                    validation_data=test_data\n",
        "                   )"
      ],
      "execution_count": 0,
      "outputs": [
        {
          "output_type": "stream",
          "text": [
            "Epoch 1/3\n",
            "1440/1440 [==============================] - 384s 267ms/step - loss: 0.5682 - accuracy: 0.6768 - val_loss: 0.5085 - val_accuracy: 0.7422\n",
            "Epoch 2/3\n",
            "1440/1440 [==============================] - 382s 265ms/step - loss: 0.4412 - accuracy: 0.7926 - val_loss: 0.5185 - val_accuracy: 0.7408\n",
            "Epoch 3/3\n",
            "1440/1440 [==============================] - 383s 266ms/step - loss: 0.3535 - accuracy: 0.8469 - val_loss: 0.6041 - val_accuracy: 0.7194\n"
          ],
          "name": "stdout"
        }
      ]
    },
    {
      "cell_type": "code",
      "metadata": {
        "id": "lTI0kb4Jak2l",
        "colab_type": "code",
        "outputId": "19e05973-cae2-43c5-b10c-49a4e23c5e75",
        "colab": {
          "base_uri": "https://localhost:8080/",
          "height": 279
        }
      },
      "source": [
        "#plotting the results and observations\n",
        "\n",
        "import matplotlib.pyplot as plt\n",
        "\n",
        "def plot_graphs(history, metric):\n",
        "  plt.plot(history.history[metric])\n",
        "  plt.plot(history.history['val_'+metric], '')\n",
        "  plt.xlabel(\"Epochs\")\n",
        "  plt.ylabel(metric)\n",
        "  plt.legend([metric, 'val_'+metric])\n",
        "  plt.show()\n",
        "\n",
        "plot_graphs(history, 'accuracy')"
      ],
      "execution_count": 0,
      "outputs": [
        {
          "output_type": "display_data",
          "data": {
            "image/png": "[encoded data removed]",
            "text/plain": [
              "<Figure size 432x288 with 1 Axes>"
            ]
          },
          "metadata": {
            "tags": [],
            "needs_background": "light"
          }
        }
      ]
    },
    {
      "cell_type": "code",
      "metadata": {
        "id": "r_njRVVSZU5J",
        "colab_type": "code",
        "colab": {}
      },
      "source": [
        "# Now let us use covid19 dataset\n",
        "\n",
        "# Our tweets may have some emoji\n",
        "# The following function will remove those emojis\n",
        "def Emoji(inputString):\n",
        "    return inputString.encode('ascii', 'ignore').decode('ascii')\n",
        "\n",
        "# Make our data cleaner\n",
        "corona = pd.read_csv('corona_march15_2020_tweets.csv')\n",
        "corona = corona[~corona.text.isnull()]\n",
        "corona = corona[['created_at', 'text', 'country_code', 'place_full_name', 'place_type']]\n",
        "corona.text = corona.text.apply(lambda x:Emoji(x))\n",
        "corona.text = corona.text.apply(lambda x:x.strip())\n",
        "corona = corona[~(corona.text=='')]"
      ],
      "execution_count": 0,
      "outputs": []
    },
    {
      "cell_type": "code",
      "metadata": {
        "id": "wRqCVAcFibi_",
        "colab_type": "code",
        "outputId": "aef80ef2-d2d7-4509-ac4e-b128a7432d82",
        "colab": {
          "base_uri": "https://localhost:8080/",
          "height": 289
        }
      },
      "source": [
        "corona.head()"
      ],
      "execution_count": 0,
      "outputs": [
        {
          "output_type": "execute_result",
          "data": {
            "text/html": [
              "<div>\n",
              "<style scoped>\n",
              "    .dataframe tbody tr th:only-of-type {\n",
              "        vertical-align: middle;\n",
              "    }\n",
              "\n",
              "    .dataframe tbody tr th {\n",
              "        vertical-align: top;\n",
              "    }\n",
              "\n",
              "    .dataframe thead th {\n",
              "        text-align: right;\n",
              "    }\n",
              "</style>\n",
              "<table border=\"1\" class=\"dataframe\">\n",
              "  <thead>\n",
              "    <tr style=\"text-align: right;\">\n",
              "      <th></th>\n",
              "      <th>created_at</th>\n",
              "      <th>text</th>\n",
              "      <th>country_code</th>\n",
              "      <th>place_full_name</th>\n",
              "      <th>place_type</th>\n",
              "    </tr>\n",
              "  </thead>\n",
              "  <tbody>\n",
              "    <tr>\n",
              "      <th>0</th>\n",
              "      <td>2020-03-15T00:00:00Z</td>\n",
              "      <td>premier jjhorgan say covid respons nonpartisan...</td>\n",
              "      <td>NaN</td>\n",
              "      <td>NaN</td>\n",
              "      <td>NaN</td>\n",
              "    </tr>\n",
              "    <tr>\n",
              "      <th>1</th>\n",
              "      <td>2020-03-15T00:00:00Z</td>\n",
              "      <td>bsp urg public use digit bank covid precaut ht...</td>\n",
              "      <td>NaN</td>\n",
              "      <td>NaN</td>\n",
              "      <td>NaN</td>\n",
              "    </tr>\n",
              "    <tr>\n",
              "      <th>2</th>\n",
              "      <td>2020-03-15T00:00:00Z</td>\n",
              "      <td>oratio imperata novel coronaviru covid httpstc...</td>\n",
              "      <td>NaN</td>\n",
              "      <td>NaN</td>\n",
              "      <td>NaN</td>\n",
              "    </tr>\n",
              "    <tr>\n",
              "      <th>3</th>\n",
              "      <td>2020-03-15T00:00:00Z</td>\n",
              "      <td>appl shut store outsid china curb coronaviru s...</td>\n",
              "      <td>NaN</td>\n",
              "      <td>NaN</td>\n",
              "      <td>NaN</td>\n",
              "    </tr>\n",
              "    <tr>\n",
              "      <th>4</th>\n",
              "      <td>2020-03-15T00:00:00Z</td>\n",
              "      <td>countri around world saturday continu close bo...</td>\n",
              "      <td>NaN</td>\n",
              "      <td>NaN</td>\n",
              "      <td>NaN</td>\n",
              "    </tr>\n",
              "  </tbody>\n",
              "</table>\n",
              "</div>"
            ],
            "text/plain": [
              "             created_at  ... place_type\n",
              "0  2020-03-15T00:00:00Z  ...        NaN\n",
              "1  2020-03-15T00:00:00Z  ...        NaN\n",
              "2  2020-03-15T00:00:00Z  ...        NaN\n",
              "3  2020-03-15T00:00:00Z  ...        NaN\n",
              "4  2020-03-15T00:00:00Z  ...        NaN\n",
              "\n",
              "[5 rows x 5 columns]"
            ]
          },
          "metadata": {
            "tags": []
          },
          "execution_count": 46
        }
      ]
    },
    {
      "cell_type": "code",
      "metadata": {
        "id": "dsiQKngejpmK",
        "colab_type": "code",
        "outputId": "2ad5f222-fa33-4067-b073-4a837c1297ae",
        "colab": {
          "base_uri": "https://localhost:8080/",
          "height": 289
        }
      },
      "source": [
        "# Taking tweets only in us\n",
        "# We will only keep tweets that have the country code country_code='US' and place_type='city'\n",
        "us_tweets = corona[corona['country_code'].isin(['US']) ]\n",
        "us_tweets = us_tweets[us_tweets['place_type'].isin(['city']) ]\n",
        "us_tweets.head()"
      ],
      "execution_count": 0,
      "outputs": [
        {
          "output_type": "execute_result",
          "data": {
            "text/html": [
              "<div>\n",
              "<style scoped>\n",
              "    .dataframe tbody tr th:only-of-type {\n",
              "        vertical-align: middle;\n",
              "    }\n",
              "\n",
              "    .dataframe tbody tr th {\n",
              "        vertical-align: top;\n",
              "    }\n",
              "\n",
              "    .dataframe thead th {\n",
              "        text-align: right;\n",
              "    }\n",
              "</style>\n",
              "<table border=\"1\" class=\"dataframe\">\n",
              "  <thead>\n",
              "    <tr style=\"text-align: right;\">\n",
              "      <th></th>\n",
              "      <th>created_at</th>\n",
              "      <th>text</th>\n",
              "      <th>country_code</th>\n",
              "      <th>place_full_name</th>\n",
              "      <th>place_type</th>\n",
              "    </tr>\n",
              "  </thead>\n",
              "  <tbody>\n",
              "    <tr>\n",
              "      <th>61</th>\n",
              "      <td>2020-03-15T00:00:18Z</td>\n",
              "      <td>given feel surprisingli fine iv decid batch co...</td>\n",
              "      <td>US</td>\n",
              "      <td>Brooklyn, NY</td>\n",
              "      <td>city</td>\n",
              "    </tr>\n",
              "    <tr>\n",
              "      <th>67</th>\n",
              "      <td>2020-03-15T00:00:21Z</td>\n",
              "      <td>good thread read understand social distanc nex...</td>\n",
              "      <td>US</td>\n",
              "      <td>Pawtucket, RI</td>\n",
              "      <td>city</td>\n",
              "    </tr>\n",
              "    <tr>\n",
              "      <th>79</th>\n",
              "      <td>2020-03-15T00:00:26Z</td>\n",
              "      <td>amaz credit commun support health worker covid...</td>\n",
              "      <td>US</td>\n",
              "      <td>Mercer Island, WA</td>\n",
              "      <td>city</td>\n",
              "    </tr>\n",
              "    <tr>\n",
              "      <th>188</th>\n",
              "      <td>2020-03-15T00:01:29Z</td>\n",
              "      <td>friend franc suppos fli home day flight cancel...</td>\n",
              "      <td>US</td>\n",
              "      <td>Brooklyn, NY</td>\n",
              "      <td>city</td>\n",
              "    </tr>\n",
              "    <tr>\n",
              "      <th>230</th>\n",
              "      <td>2020-03-15T00:01:55Z</td>\n",
              "      <td>view today entir covid updat ncgovernor health...</td>\n",
              "      <td>US</td>\n",
              "      <td>Brevard, NC</td>\n",
              "      <td>city</td>\n",
              "    </tr>\n",
              "  </tbody>\n",
              "</table>\n",
              "</div>"
            ],
            "text/plain": [
              "               created_at  ... place_type\n",
              "61   2020-03-15T00:00:18Z  ...       city\n",
              "67   2020-03-15T00:00:21Z  ...       city\n",
              "79   2020-03-15T00:00:26Z  ...       city\n",
              "188  2020-03-15T00:01:29Z  ...       city\n",
              "230  2020-03-15T00:01:55Z  ...       city\n",
              "\n",
              "[5 rows x 5 columns]"
            ]
          },
          "metadata": {
            "tags": []
          },
          "execution_count": 47
        }
      ]
    },
    {
      "cell_type": "code",
      "metadata": {
        "id": "Bsp3ZS2QjpYP",
        "colab_type": "code",
        "colab": {}
      },
      "source": [
        "# creating a dataset\n",
        "coronagen = tf.data.Dataset.from_tensor_slices((us_tweets.text, us_tweets.index))"
      ],
      "execution_count": 0,
      "outputs": []
    },
    {
      "cell_type": "code",
      "metadata": {
        "id": "w6a5jA7fke8j",
        "colab_type": "code",
        "colab": {}
      },
      "source": [
        "# mapping like before to convert data into vector\n",
        "pred_data = coronagen.map(encode_map_fn).padded_batch(50, padded_shapes=([None],[]))"
      ],
      "execution_count": 0,
      "outputs": []
    },
    {
      "cell_type": "code",
      "metadata": {
        "id": "V8m6J5WTkuBB",
        "colab_type": "code",
        "outputId": "661b9cf3-c851-463d-fe98-4cf8929b2d0d",
        "colab": {
          "base_uri": "https://localhost:8080/",
          "height": 153
        }
      },
      "source": [
        "#get our first batch of pred_data which is mapped\n",
        "samplemap, _ = next(iter(pred_data))\n",
        "samplemap"
      ],
      "execution_count": 0,
      "outputs": [
        {
          "output_type": "execute_result",
          "data": {
            "text/plain": [
              "<tf.Tensor: shape=(50, 32), dtype=int64, numpy=\n",
              "array([[102263, 299625, 329420, ...,      0,      0,      0],\n",
              "       [378414, 199405, 218527, ...,      0,      0,      0],\n",
              "       [401647,  18176, 283257, ...,      0,      0,      0],\n",
              "       ...,\n",
              "       [302370, 267552, 201651, ...,      0,      0,      0],\n",
              "       [415467, 123110, 415467, ...,      0,      0,      0],\n",
              "       [415467, 415467, 415467, ...,      0,      0,      0]])>"
            ]
          },
          "metadata": {
            "tags": []
          },
          "execution_count": 50
        }
      ]
    },
    {
      "cell_type": "code",
      "metadata": {
        "id": "xrJnsadokt64",
        "colab_type": "code",
        "colab": {}
      },
      "source": [
        "#seen above 50 data with 32 each coloumns"
      ],
      "execution_count": 0,
      "outputs": []
    },
    {
      "cell_type": "code",
      "metadata": {
        "id": "t8AQPXTEktzU",
        "colab_type": "code",
        "outputId": "e142fc66-a4f0-4ba2-b7a7-de147439cd97",
        "colab": {
          "base_uri": "https://localhost:8080/",
          "height": 34
        }
      },
      "source": [
        "#will use our trained model\n",
        "prediction = model.predict(pred_data, batch_size=50, verbose=1)"
      ],
      "execution_count": 0,
      "outputs": [
        {
          "output_type": "stream",
          "text": [
            "140/140 [==============================] - 2s 18ms/step\n"
          ],
          "name": "stdout"
        }
      ]
    },
    {
      "cell_type": "code",
      "metadata": {
        "id": "KE0TUBtuliqs",
        "colab_type": "code",
        "outputId": "371b5dfa-f622-4145-9370-f0b7e61727cc",
        "colab": {
          "base_uri": "https://localhost:8080/",
          "height": 136
        }
      },
      "source": [
        "prediction\n",
        "#but the problem is that we have to predict in either 0 and 1 as mentioned above"
      ],
      "execution_count": 0,
      "outputs": [
        {
          "output_type": "execute_result",
          "data": {
            "text/plain": [
              "array([[ 3.509568  ],\n",
              "       [ 1.1532626 ],\n",
              "       [ 4.7696347 ],\n",
              "       ...,\n",
              "       [ 5.076318  ],\n",
              "       [ 0.25705662],\n",
              "       [-0.91744775]], dtype=float32)"
            ]
          },
          "metadata": {
            "tags": []
          },
          "execution_count": 53
        }
      ]
    },
    {
      "cell_type": "code",
      "metadata": {
        "id": "29ftrVlJlikS",
        "colab_type": "code",
        "colab": {}
      },
      "source": [
        "import numpy as np\n",
        "def probability(x):#this is sigmoid function it takes every number and convert it to between 0 and 1\n",
        "  return 1/(1+np.exp(-x))\n",
        "\n",
        "us_tweets['sentiment'] = probability(prediction)"
      ],
      "execution_count": 0,
      "outputs": []
    },
    {
      "cell_type": "code",
      "metadata": {
        "id": "t4XNRexklicT",
        "colab_type": "code",
        "outputId": "929d933d-c29a-4dfb-95c7-634ee92809aa",
        "colab": {
          "base_uri": "https://localhost:8080/",
          "height": 289
        }
      },
      "source": [
        "us_tweets.head()"
      ],
      "execution_count": 0,
      "outputs": [
        {
          "output_type": "execute_result",
          "data": {
            "text/html": [
              "<div>\n",
              "<style scoped>\n",
              "    .dataframe tbody tr th:only-of-type {\n",
              "        vertical-align: middle;\n",
              "    }\n",
              "\n",
              "    .dataframe tbody tr th {\n",
              "        vertical-align: top;\n",
              "    }\n",
              "\n",
              "    .dataframe thead th {\n",
              "        text-align: right;\n",
              "    }\n",
              "</style>\n",
              "<table border=\"1\" class=\"dataframe\">\n",
              "  <thead>\n",
              "    <tr style=\"text-align: right;\">\n",
              "      <th></th>\n",
              "      <th>created_at</th>\n",
              "      <th>text</th>\n",
              "      <th>country_code</th>\n",
              "      <th>place_full_name</th>\n",
              "      <th>place_type</th>\n",
              "      <th>sentiment</th>\n",
              "    </tr>\n",
              "  </thead>\n",
              "  <tbody>\n",
              "    <tr>\n",
              "      <th>61</th>\n",
              "      <td>2020-03-15T00:00:18Z</td>\n",
              "      <td>given feel surprisingli fine iv decid batch co...</td>\n",
              "      <td>US</td>\n",
              "      <td>Brooklyn, NY</td>\n",
              "      <td>city</td>\n",
              "      <td>0.970959</td>\n",
              "    </tr>\n",
              "    <tr>\n",
              "      <th>67</th>\n",
              "      <td>2020-03-15T00:00:21Z</td>\n",
              "      <td>good thread read understand social distanc nex...</td>\n",
              "      <td>US</td>\n",
              "      <td>Pawtucket, RI</td>\n",
              "      <td>city</td>\n",
              "      <td>0.760106</td>\n",
              "    </tr>\n",
              "    <tr>\n",
              "      <th>79</th>\n",
              "      <td>2020-03-15T00:00:26Z</td>\n",
              "      <td>amaz credit commun support health worker covid...</td>\n",
              "      <td>US</td>\n",
              "      <td>Mercer Island, WA</td>\n",
              "      <td>city</td>\n",
              "      <td>0.991588</td>\n",
              "    </tr>\n",
              "    <tr>\n",
              "      <th>188</th>\n",
              "      <td>2020-03-15T00:01:29Z</td>\n",
              "      <td>friend franc suppos fli home day flight cancel...</td>\n",
              "      <td>US</td>\n",
              "      <td>Brooklyn, NY</td>\n",
              "      <td>city</td>\n",
              "      <td>0.027525</td>\n",
              "    </tr>\n",
              "    <tr>\n",
              "      <th>230</th>\n",
              "      <td>2020-03-15T00:01:55Z</td>\n",
              "      <td>view today entir covid updat ncgovernor health...</td>\n",
              "      <td>US</td>\n",
              "      <td>Brevard, NC</td>\n",
              "      <td>city</td>\n",
              "      <td>0.997123</td>\n",
              "    </tr>\n",
              "  </tbody>\n",
              "</table>\n",
              "</div>"
            ],
            "text/plain": [
              "               created_at  ... sentiment\n",
              "61   2020-03-15T00:00:18Z  ...  0.970959\n",
              "67   2020-03-15T00:00:21Z  ...  0.760106\n",
              "79   2020-03-15T00:00:26Z  ...  0.991588\n",
              "188  2020-03-15T00:01:29Z  ...  0.027525\n",
              "230  2020-03-15T00:01:55Z  ...  0.997123\n",
              "\n",
              "[5 rows x 6 columns]"
            ]
          },
          "metadata": {
            "tags": []
          },
          "execution_count": 55
        }
      ]
    },
    {
      "cell_type": "code",
      "metadata": {
        "id": "a6qbP5QZmEOP",
        "colab_type": "code",
        "outputId": "7e666edd-9340-4f6c-bb58-e5d625340d81",
        "colab": {
          "base_uri": "https://localhost:8080/",
          "height": 340
        }
      },
      "source": [
        "us_tweets['hour'] = pd.to_datetime(us_tweets.created_at).dt.hour\n",
        "us_tweets.head()"
      ],
      "execution_count": 0,
      "outputs": [
        {
          "output_type": "execute_result",
          "data": {
            "text/html": [
              "<div>\n",
              "<style scoped>\n",
              "    .dataframe tbody tr th:only-of-type {\n",
              "        vertical-align: middle;\n",
              "    }\n",
              "\n",
              "    .dataframe tbody tr th {\n",
              "        vertical-align: top;\n",
              "    }\n",
              "\n",
              "    .dataframe thead th {\n",
              "        text-align: right;\n",
              "    }\n",
              "</style>\n",
              "<table border=\"1\" class=\"dataframe\">\n",
              "  <thead>\n",
              "    <tr style=\"text-align: right;\">\n",
              "      <th></th>\n",
              "      <th>created_at</th>\n",
              "      <th>text</th>\n",
              "      <th>country_code</th>\n",
              "      <th>place_full_name</th>\n",
              "      <th>place_type</th>\n",
              "      <th>sentiment</th>\n",
              "      <th>hour</th>\n",
              "    </tr>\n",
              "  </thead>\n",
              "  <tbody>\n",
              "    <tr>\n",
              "      <th>61</th>\n",
              "      <td>2020-03-15T00:00:18Z</td>\n",
              "      <td>given feel surprisingli fine iv decid batch co...</td>\n",
              "      <td>US</td>\n",
              "      <td>Brooklyn, NY</td>\n",
              "      <td>city</td>\n",
              "      <td>0.970959</td>\n",
              "      <td>0</td>\n",
              "    </tr>\n",
              "    <tr>\n",
              "      <th>67</th>\n",
              "      <td>2020-03-15T00:00:21Z</td>\n",
              "      <td>good thread read understand social distanc nex...</td>\n",
              "      <td>US</td>\n",
              "      <td>Pawtucket, RI</td>\n",
              "      <td>city</td>\n",
              "      <td>0.760106</td>\n",
              "      <td>0</td>\n",
              "    </tr>\n",
              "    <tr>\n",
              "      <th>79</th>\n",
              "      <td>2020-03-15T00:00:26Z</td>\n",
              "      <td>amaz credit commun support health worker covid...</td>\n",
              "      <td>US</td>\n",
              "      <td>Mercer Island, WA</td>\n",
              "      <td>city</td>\n",
              "      <td>0.991588</td>\n",
              "      <td>0</td>\n",
              "    </tr>\n",
              "    <tr>\n",
              "      <th>188</th>\n",
              "      <td>2020-03-15T00:01:29Z</td>\n",
              "      <td>friend franc suppos fli home day flight cancel...</td>\n",
              "      <td>US</td>\n",
              "      <td>Brooklyn, NY</td>\n",
              "      <td>city</td>\n",
              "      <td>0.027525</td>\n",
              "      <td>0</td>\n",
              "    </tr>\n",
              "    <tr>\n",
              "      <th>230</th>\n",
              "      <td>2020-03-15T00:01:55Z</td>\n",
              "      <td>view today entir covid updat ncgovernor health...</td>\n",
              "      <td>US</td>\n",
              "      <td>Brevard, NC</td>\n",
              "      <td>city</td>\n",
              "      <td>0.997123</td>\n",
              "      <td>0</td>\n",
              "    </tr>\n",
              "  </tbody>\n",
              "</table>\n",
              "</div>"
            ],
            "text/plain": [
              "               created_at  ... hour\n",
              "61   2020-03-15T00:00:18Z  ...    0\n",
              "67   2020-03-15T00:00:21Z  ...    0\n",
              "79   2020-03-15T00:00:26Z  ...    0\n",
              "188  2020-03-15T00:01:29Z  ...    0\n",
              "230  2020-03-15T00:01:55Z  ...    0\n",
              "\n",
              "[5 rows x 7 columns]"
            ]
          },
          "metadata": {
            "tags": []
          },
          "execution_count": 56
        }
      ]
    },
    {
      "cell_type": "code",
      "metadata": {
        "id": "TFkTp7S_m5Nd",
        "colab_type": "code",
        "outputId": "39eb831d-f4f1-4a5d-88bd-23316a416d63",
        "colab": {
          "base_uri": "https://localhost:8080/",
          "height": 34
        }
      },
      "source": [
        "len(us_tweets)# data is large "
      ],
      "execution_count": 0,
      "outputs": [
        {
          "output_type": "execute_result",
          "data": {
            "text/plain": [
              "6993"
            ]
          },
          "metadata": {
            "tags": []
          },
          "execution_count": 57
        }
      ]
    },
    {
      "cell_type": "code",
      "metadata": {
        "id": "7V1yViKYmED4",
        "colab_type": "code",
        "colab": {}
      },
      "source": [
        "# Average tweet in an hour\n",
        "stats = us_tweets[['hour','sentiment']].groupby(['hour']).mean().reset_index()"
      ],
      "execution_count": 0,
      "outputs": []
    },
    {
      "cell_type": "code",
      "metadata": {
        "id": "h6tUcVIHmu5Y",
        "colab_type": "code",
        "outputId": "048288e0-42ed-490d-a9d3-0fa3105107ce",
        "colab": {
          "base_uri": "https://localhost:8080/",
          "height": 565
        }
      },
      "source": [
        "import matplotlib.pyplot as plt\n",
        "plt.figure(figsize=(16,8))\n",
        "plt.xticks(rotation = 90)\n",
        "plt.plot([f'{str(i).zfill(2)}:{str(i+1).zfill(2)} HRS' for i in range(24)],stats.sentiment)\n",
        "plt.xlabel('Hour in a day')\n",
        "plt.ylabel('Avg Sentiment (1 is positive)')"
      ],
      "execution_count": 0,
      "outputs": [
        {
          "output_type": "stream",
          "text": [
            "/usr/local/lib/python3.6/dist-packages/dateutil/parser/_parser.py:1218: UnknownTimezoneWarning: tzname HRS identified but not understood.  Pass `tzinfos` argument in order to correctly return a timezone-aware datetime.  In a future version, this will raise an exception.\n",
            "  category=UnknownTimezoneWarning)\n",
            "/usr/local/lib/python3.6/dist-packages/dateutil/parser/_parser.py:1218: UnknownTimezoneWarning: tzname HRS identified but not understood.  Pass `tzinfos` argument in order to correctly return a timezone-aware datetime.  In a future version, this will raise an exception.\n",
            "  category=UnknownTimezoneWarning)\n"
          ],
          "name": "stderr"
        },
        {
          "output_type": "execute_result",
          "data": {
            "text/plain": [
              "Text(0, 0.5, 'Avg Sentiment (1 is positive)')"
            ]
          },
          "metadata": {
            "tags": []
          },
          "execution_count": 59
        },
        {
          "output_type": "display_data",
          "data": {
            "image/png": "[encoded data removed]",
            "text/plain": [
              "<Figure size 1152x576 with 1 Axes>"
            ]
          },
          "metadata": {
            "tags": [],
            "needs_background": "light"
          }
        }
      ]
    },
    {
      "cell_type": "code",
      "metadata": {
        "id": "F3NSHfsgpTXf",
        "colab_type": "code",
        "outputId": "37c76219-0e4a-4a50-9a02-d8fd102f4d98",
        "colab": {
          "base_uri": "https://localhost:8080/",
          "height": 34
        }
      },
      "source": [
        "len(us_tweets.place_full_name.unique())"
      ],
      "execution_count": 0,
      "outputs": [
        {
          "output_type": "execute_result",
          "data": {
            "text/plain": [
              "1868"
            ]
          },
          "metadata": {
            "tags": []
          },
          "execution_count": 60
        }
      ]
    },
    {
      "cell_type": "code",
      "metadata": {
        "id": "Wtlp5F8GptO_",
        "colab_type": "code",
        "outputId": "8ddcf2b4-9285-40a1-bdec-7b164d9947f5",
        "colab": {
          "base_uri": "https://localhost:8080/",
          "height": 51
        }
      },
      "source": [
        "us_tweets.place_full_name.unique()"
      ],
      "execution_count": 0,
      "outputs": [
        {
          "output_type": "execute_result",
          "data": {
            "text/plain": [
              "array(['Brooklyn, NY', 'Pawtucket, RI', 'Mercer Island, WA', ...,\n",
              "       'Lantana, TX', 'Dayton, KY', 'Clinton, MD'], dtype=object)"
            ]
          },
          "metadata": {
            "tags": []
          },
          "execution_count": 61
        }
      ]
    },
    {
      "cell_type": "code",
      "metadata": {
        "id": "Iy7y-9O3nyhR",
        "colab_type": "code",
        "outputId": "b0dbe813-9425-4fd5-d70a-e04bcdaf2b89",
        "colab": {
          "base_uri": "https://localhost:8080/",
          "height": 523
        }
      },
      "source": [
        "top50_cities = us_tweets[['place_full_name']].groupby(['place_full_name'])['place_full_name'].size().nlargest(50)\n",
        "us_cities_sent = us_tweets[us_tweets.place_full_name.isin(top50_cities.keys())][['place_full_name','sentiment']]\n",
        "us_cities_sent = us_cities_sent[['place_full_name','sentiment']].groupby('place_full_name').mean().reset_index()\n",
        "# visualize where we will show sentiment and states\n",
        "plt.figure(figsize=(16,8))\n",
        "plt.xticks(rotation = 90)\n",
        "plt.plot(us_cities_sent.place_full_name,us_cities_sent.sentiment)\n",
        "plt.xlabel('Cities')\n",
        "plt.ylabel('Avg Sentiment (1 is positive)')"
      ],
      "execution_count": 0,
      "outputs": [
        {
          "output_type": "execute_result",
          "data": {
            "text/plain": [
              "Text(0, 0.5, 'Avg Sentiment (1 is positive)')"
            ]
          },
          "metadata": {
            "tags": []
          },
          "execution_count": 62
        },
        {
          "output_type": "display_data",
          "data": {
            "image/png": "[encoded data removed]",
            "text/plain": [
              "<Figure size 1152x576 with 1 Axes>"
            ]
          },
          "metadata": {
            "tags": [],
            "needs_background": "light"
          }
        }
      ]
    },
    {
      "cell_type": "code",
      "metadata": {
        "id": "-OzjB4ZMnzA2",
        "colab_type": "code",
        "colab": {}
      },
      "source": [
        ""
      ],
      "execution_count": 0,
      "outputs": []
    },
    {
      "cell_type": "code",
      "metadata": {
        "id": "dvqE5RTAoCZQ",
        "colab_type": "code",
        "colab": {}
      },
      "source": [
        ""
      ],
      "execution_count": 0,
      "outputs": []
    }
  ]
}